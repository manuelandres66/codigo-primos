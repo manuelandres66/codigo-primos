{
 "cells": [
  {
   "cell_type": "code",
   "execution_count": 81,
   "metadata": {},
   "outputs": [],
   "source": [
    "import math"
   ]
  },
  {
   "cell_type": "code",
   "execution_count": 90,
   "metadata": {},
   "outputs": [],
   "source": [
    "def obtener_primos(cantidad):\n",
    "    p = [2, 3, 5, 7, 11, 13, 17]\n",
    "    N = 2\n",
    "    while len(p) < cantidad:\n",
    "        m = 0\n",
    "        if N > p[-1]:\n",
    "            for pr in p:\n",
    "                if N%pr >= 1:\n",
    "                    m +=1\n",
    "            if m == len(p):\n",
    "                p.append(N)\n",
    "        N += 1\n",
    "    return p           "
   ]
  },
  {
   "cell_type": "code",
   "execution_count": 91,
   "metadata": {},
   "outputs": [],
   "source": [
    "def distancia(punto_a, punto_b):\n",
    "    para_raiz = ((punto_a[0]-punto_b[0])**2)+((punto_a[1]-punto_b[1])**2)\n",
    "    return math.sqrt(para_raiz)"
   ]
  },
  {
   "cell_type": "code",
   "execution_count": 92,
   "metadata": {},
   "outputs": [],
   "source": [
    "def angulo(A, vertice, C):\n",
    "    c = distancia(A, vertice)\n",
    "    a = distancia(C, vertice)\n",
    "    b = distancia(A, C)\n",
    "    para_cosecante = ((b**2)-(a**2)-(c**2)) / (-2*a*c)\n",
    "    return math.degrees(math.acos(para_cosecante))"
   ]
  },
  {
   "cell_type": "code",
   "execution_count": 93,
   "metadata": {},
   "outputs": [],
   "source": [
    "primos = obtener_primos(1000)"
   ]
  },
  {
   "cell_type": "code",
   "execution_count": 94,
   "metadata": {},
   "outputs": [
    {
     "data": {
      "text/plain": [
       "1000"
      ]
     },
     "execution_count": 94,
     "metadata": {},
     "output_type": "execute_result"
    }
   ],
   "source": [
    "len(primos)"
   ]
  },
  {
   "cell_type": "code",
   "execution_count": 95,
   "metadata": {},
   "outputs": [],
   "source": [
    "resultados = {}\n",
    "contador = 2\n",
    "for _ in range(len(primos) - 3):\n",
    "    sub = primos[contador - 2]\n",
    "    A = primos[contador - 1]\n",
    "    B = primos[contador]\n",
    "    C = primos[contador + 1]\n",
    "    try:\n",
    "        resultado = angulo((A, sub), (B, A), (C, B))\n",
    "    except:\n",
    "        resultado = 180\n",
    "    resultados[B] = resultado\n",
    "    contador += 1"
   ]
  },
  {
   "cell_type": "code",
   "execution_count": 96,
   "metadata": {},
   "outputs": [],
   "source": [
    "valores = [value for (key, value) in resultados.items()]\n",
    "frecuencias = {}\n",
    "for valor in valores:\n",
    "    frecuencias[valor] = frecuencias.get(valor, 0) + 1"
   ]
  },
  {
   "cell_type": "code",
   "execution_count": 97,
   "metadata": {},
   "outputs": [
    {
     "data": {
      "text/plain": [
       "236"
      ]
     },
     "execution_count": 97,
     "metadata": {},
     "output_type": "execute_result"
    }
   ],
   "source": [
    "len(frecuencias)"
   ]
  },
  {
   "cell_type": "code",
   "execution_count": 10,
   "metadata": {},
   "outputs": [],
   "source": [
    "# from openpyxl import Workbook"
   ]
  },
  {
   "cell_type": "code",
   "execution_count": 11,
   "metadata": {},
   "outputs": [],
   "source": [
    "# wb = Workbook()\n",
    "# ws = wb.active\n",
    "# ws[\"A1\"] = \"Numero Primo\"\n",
    "# ws[\"B1\"] = \"Angulo\"\n",
    "# contador = 2\n",
    "\n",
    "# for resultado in resultados:\n",
    "#     ws[\"A\" + str(contador)] = resultado\n",
    "#     ws[\"B\" + str(contador)] = resultados[resultado]\n",
    "#     contador += 1\n",
    "\n",
    "# ws[\"E1\"] = \"Numero\"\n",
    "# ws[\"F1\"] = \"Frecuencia\"\n",
    "# contador = 2\n",
    "\n",
    "# for frecuencia in frecuencias:\n",
    "#     ws[\"E\" + str(contador)] = frecuencia\n",
    "#     ws[\"F\" + str(contador)] = frecuencias[frecuencia]\n",
    "#     contador += 1\n",
    "\n",
    "# wb.save(\"C:/Users/Manuel/Desktop/Primos.xlsx\")"
   ]
  }
 ],
 "metadata": {
  "kernelspec": {
   "display_name": "Python 3",
   "language": "python",
   "name": "python3"
  },
  "language_info": {
   "codemirror_mode": {
    "name": "ipython",
    "version": 3
   },
   "file_extension": ".py",
   "mimetype": "text/x-python",
   "name": "python",
   "nbconvert_exporter": "python",
   "pygments_lexer": "ipython3",
   "version": "3.7.7"
  }
 },
 "nbformat": 4,
 "nbformat_minor": 4
}
